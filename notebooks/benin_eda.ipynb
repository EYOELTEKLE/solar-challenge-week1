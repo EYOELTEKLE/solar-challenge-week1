{
 "cells": [
  {
   "cell_type": "code",
   "execution_count": null,
   "id": "5677d9a5",
   "metadata": {},
   "outputs": [],
   "source": [
    "#import helper func\n",
    "import sys\n",
    "import os\n",
    "sys.path.append(os.path.abspath(\"../\")) \n",
    "from src.utils.utils import *\n"
   ]
  },
  {
   "cell_type": "code",
   "execution_count": null,
   "id": "f5df0101",
   "metadata": {},
   "outputs": [],
   "source": [
    "# reading the csv\n",
    "df = load_data('../data/benin-malanville.csv')\n",
    "df.head()"
   ]
  },
  {
   "cell_type": "code",
   "execution_count": null,
   "id": "c29b1d6a",
   "metadata": {},
   "outputs": [],
   "source": [
    "# Summary statistics\n",
    "df.describe()\n",
    "\n",
    "df = clean_data(df,['GHI', 'DNI', 'DHI', 'ModA', 'ModB', 'WS', 'WSgust'])\n",
    "\n",
    "# Summary\n",
    "summary, missing = generate_summary(df)\n",
    "display(summary)\n",
    "display(missing)\n",
    "\n",
    "#outliers \n",
    "outliers = detect_outliers_zscore(df,['GHI', 'DNI', 'DHI', 'ModA', 'ModB', 'WS', 'WSgust'],3.0)"
   ]
  },
  {
   "cell_type": "code",
   "execution_count": null,
   "id": "8346e753",
   "metadata": {},
   "outputs": [],
   "source": [
    "# Multivariate\n",
    "plot_univariate_histograms(df, ['GHI', 'DNI', 'DHI', 'Tamb'])\n",
    "\n",
    "# Bivariate\n",
    "plot_bivariate_scatters(df, [('GHI', 'Tamb'),['GHI', 'DNI'],['GHI', 'DNI'], ['DHI', 'Tamb']])\n"
   ]
  },
  {
   "cell_type": "code",
   "execution_count": null,
   "id": "a106d862",
   "metadata": {},
   "outputs": [],
   "source": [
    "# Visualizations\n",
    "key_columns = ['GHI', 'DNI', 'DHI', 'ModA', 'ModB', 'WS', 'WSgust']\n",
    "timestamp_col = \"Timestamp\"\n",
    "plot_time_series(df, time_col=timestamp_col, value_columns=['GHI', 'DNI', 'DHI', 'Tamb'])\n",
    "plot_correlations(df, columns=key_columns + ['TModA', 'TModB'])\n",
    "plot_scatter(df, x='WS', y='GHI', bubble_size_col='RH')\n",
    "plot_histogram(df, column='GHI')"
   ]
  }
 ],
 "metadata": {
  "kernelspec": {
   "display_name": ".venv",
   "language": "python",
   "name": "python3"
  },
  "language_info": {
   "codemirror_mode": {
    "name": "ipython",
    "version": 3
   },
   "file_extension": ".py",
   "mimetype": "text/x-python",
   "name": "python",
   "nbconvert_exporter": "python",
   "pygments_lexer": "ipython3",
   "version": "3.12.7"
  }
 },
 "nbformat": 4,
 "nbformat_minor": 5
}
