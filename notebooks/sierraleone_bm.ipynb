{
 "cells": [
  {
   "cell_type": "code",
   "execution_count": null,
   "id": "abb302f8",
   "metadata": {},
   "outputs": [],
   "source": [
    "# %%\n",
    "#import helper func\n",
    "import sys\n",
    "import os\n",
    "sys.path.append(os.path.abspath(\"../\")) \n",
    "from src.utils.utils import *\n",
    "\n",
    "\n",
    "# %%\n",
    "# reading the csv\n",
    "df = load_data('../data/sierraleone-bumbuna.csv')\n",
    "df.head()\n",
    "\n",
    "# %%\n",
    "# Summary statistics\n",
    "df.describe()\n",
    "\n",
    "df = clean_data(df,['GHI', 'DNI', 'DHI', 'ModA', 'ModB', 'WS', 'WSgust'])\n",
    "\n",
    "# Summary\n",
    "summary, missing = generate_summary(df)\n",
    "display(summary)\n",
    "display(missing)\n",
    "\n",
    "#outliers \n",
    "outliers = detect_outliers_zscore(df,['GHI', 'DNI', 'DHI', 'ModA', 'ModB', 'WS', 'WSgust'],3.0)\n",
    "\n",
    "# %%\n",
    "# Multivariate\n",
    "plot_univariate_histograms(df, ['GHI', 'DNI', 'DHI', 'Tamb'])\n",
    "\n",
    "# Bivariate\n",
    "plot_bivariate_scatters(df, [('GHI', 'Tamb'),['GHI', 'DNI'],['GHI', 'DNI'], ['DHI', 'Tamb']])\n",
    "\n",
    "\n",
    "# %%\n",
    "# Visualizations\n",
    "key_columns = ['GHI', 'DNI', 'DHI', 'ModA', 'ModB', 'WS', 'WSgust']\n",
    "timestamp_col = \"Timestamp\"\n",
    "plot_time_series(df, time_col=timestamp_col, value_columns=['GHI', 'DNI', 'DHI', 'Tamb'])\n",
    "plot_correlations(df, columns=key_columns + ['TModA', 'TModB'])\n",
    "plot_scatter(df, x='WS', y='GHI', bubble_size_col='RH')\n",
    "plot_histogram(df, column='GHI')\n",
    "\n",
    "\n"
   ]
  }
 ],
 "metadata": {
  "kernelspec": {
   "display_name": ".venv",
   "language": "python",
   "name": "python3"
  },
  "language_info": {
   "codemirror_mode": {
    "name": "ipython",
    "version": 3
   },
   "file_extension": ".py",
   "mimetype": "text/x-python",
   "name": "python",
   "nbconvert_exporter": "python",
   "pygments_lexer": "ipython3",
   "version": "3.12.7"
  }
 },
 "nbformat": 4,
 "nbformat_minor": 5
}
